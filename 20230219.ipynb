{
  "nbformat": 4,
  "nbformat_minor": 0,
  "metadata": {
    "colab": {
      "provenance": [],
      "include_colab_link": true
    },
    "kernelspec": {
      "name": "python3",
      "display_name": "Python 3"
    },
    "language_info": {
      "name": "python"
    }
  },
  "cells": [
    {
      "cell_type": "markdown",
      "metadata": {
        "id": "view-in-github",
        "colab_type": "text"
      },
      "source": [
        "<a href=\"https://colab.research.google.com/github/chunyao0722/20230205-Python/blob/main/20230219.ipynb\" target=\"_parent\"><img src=\"https://colab.research.google.com/assets/colab-badge.svg\" alt=\"Open In Colab\"/></a>"
      ]
    },
    {
      "cell_type": "markdown",
      "source": [
        "# 20230219 筆記"
      ],
      "metadata": {
        "id": "4k7YiiVSUNdT"
      }
    },
    {
      "cell_type": "markdown",
      "source": [
        "## 回答問題"
      ],
      "metadata": {
        "id": "fAQXEHpcUmOn"
      }
    },
    {
      "cell_type": "markdown",
      "source": [
        "### Q: \"%\" 怎麼使用？\n",
        "\n",
        "參考：https://python.microbit.org/v/3\n",
        "\n",
        "嘗試執行底下程式，按按鈕A觀察結果！\n",
        "\n",
        "```python\n",
        "# Imports go at the top\n",
        "from microbit import *\n",
        "\n",
        "display.clear()\n",
        "\n",
        "x = 0\n",
        "y = 0\n",
        "display.set_pixel(x,y,9)\n",
        "\n",
        "while True:\n",
        "    if button_a.was_pressed():\n",
        "        x = x + 1\n",
        "        display.clear()\n",
        "        display.set_pixel(x%5,y,9)\n",
        "```"
      ],
      "metadata": {
        "id": "laaMUqb7UXBA"
      }
    },
    {
      "cell_type": "markdown",
      "source": [
        "## 複習一下 requests 的使用\n",
        "\n",
        "從政府資料開放平台抓資料：https://data.gov.tw/"
      ],
      "metadata": {
        "id": "L_d49VF0U9eD"
      }
    },
    {
      "cell_type": "markdown",
      "source": [
        "### 練習\n",
        "\n",
        "抓取`年度國內主要金融指標`下來做分析:\n",
        "\n",
        "https://apiservice.mol.gov.tw/OdService/download/A17000000J-030244-dpp"
      ],
      "metadata": {
        "id": "R8ePOU2vW2Ij"
      }
    },
    {
      "cell_type": "code",
      "execution_count": null,
      "metadata": {
        "id": "TU0WgUzOPbSG"
      },
      "outputs": [],
      "source": [
        "import requests"
      ]
    },
    {
      "cell_type": "code",
      "source": [
        "url = \"https://apiservice.mol.gov.tw/OdService/download/A17000000J-030244-dpp\""
      ],
      "metadata": {
        "id": "t1lMNwHaPd-e"
      },
      "execution_count": null,
      "outputs": []
    },
    {
      "cell_type": "code",
      "source": [
        "data = requests.get(url).json()"
      ],
      "metadata": {
        "id": "udd8ZIXyPk66"
      },
      "execution_count": null,
      "outputs": []
    },
    {
      "cell_type": "code",
      "source": [
        "# 列出data裡面的東西\n",
        "data"
      ],
      "metadata": {
        "id": "j58ppEH5XVqC"
      },
      "execution_count": null,
      "outputs": []
    },
    {
      "cell_type": "code",
      "source": [
        "# 檢視data的資料型態\n",
        "type(data)"
      ],
      "metadata": {
        "colab": {
          "base_uri": "https://localhost:8080/"
        },
        "id": "kpOnUyWUZUwr",
        "outputId": "8dad0aa3-00e9-42ae-ae9c-fa50c9882d16"
      },
      "execution_count": null,
      "outputs": [
        {
          "output_type": "execute_result",
          "data": {
            "text/plain": [
              "list"
            ]
          },
          "metadata": {},
          "execution_count": 7
        }
      ]
    },
    {
      "cell_type": "code",
      "source": [
        "# 檢視一下 data 裡面有幾筆資料\n",
        "len(data)"
      ],
      "metadata": {
        "colab": {
          "base_uri": "https://localhost:8080/"
        },
        "id": "d-v2aCjpXZiL",
        "outputId": "4cfcd520-6a06-4567-8f88-6b5f9198064a"
      },
      "execution_count": null,
      "outputs": [
        {
          "output_type": "execute_result",
          "data": {
            "text/plain": [
              "29"
            ]
          },
          "metadata": {},
          "execution_count": 8
        }
      ]
    },
    {
      "cell_type": "code",
      "source": [
        "# 檢視一下 data 的第一筆資料\n",
        "data[0]"
      ],
      "metadata": {
        "colab": {
          "base_uri": "https://localhost:8080/"
        },
        "id": "RYkMoGhoZgzO",
        "outputId": "3b9cb041-0627-4634-8dca-02685fa4544f"
      },
      "execution_count": null,
      "outputs": [
        {
          "output_type": "execute_result",
          "data": {
            "text/plain": [
              "{'年度': '1994',\n",
              " '貨幣供給額期底年增率-M1B': '12.23',\n",
              " '貨幣供給額期底年增率-M2': '15.07',\n",
              " '金價（美元／英兩）-國際現貨黃金價格': '382.50',\n",
              " '金價（美元／英兩）-台北': '385.07',\n",
              " '匯率（月底）-（新台幣／美元）': '26.240',\n",
              " '外匯存底（億美元）': '924.54',\n",
              " '利率（年息%）-金融業拆款': '6.130',\n",
              " '利率（年息%）-商業本票31-90天期': '6.77',\n",
              " '利率（年息%）-中央銀行重貼現率': '5.500',\n",
              " '利率（年息%）-債券市場（十年期中央政府公債）': '7.24',\n",
              " '證券（集中市場）-發行量加權股價指數（月底）': '7124.66',\n",
              " '證券（集中市場）-成交值（億元）': '194766'}"
            ]
          },
          "metadata": {},
          "execution_count": 9
        }
      ]
    },
    {
      "cell_type": "markdown",
      "source": [
        "### 列出各年度的M2貨幣供給額"
      ],
      "metadata": {
        "id": "XKS7PDAHdrKc"
      }
    },
    {
      "cell_type": "markdown",
      "source": [
        "#### 方法一"
      ],
      "metadata": {
        "id": "fZV5YPv4dxVH"
      }
    },
    {
      "cell_type": "code",
      "source": [
        "for i in data:\n",
        "  print(i['年度'], \"==>\", i['貨幣供給額期底年增率-M2'])"
      ],
      "metadata": {
        "colab": {
          "base_uri": "https://localhost:8080/"
        },
        "id": "XmjUorR7Zlib",
        "outputId": "0636da66-e6e3-4060-d607-d46ea2e980ef"
      },
      "execution_count": null,
      "outputs": [
        {
          "output_type": "stream",
          "name": "stdout",
          "text": [
            "1994 ==> 15.07\n",
            "1995 ==> 9.42\n",
            "1996 ==> 9.13\n",
            "1997 ==> 8.02\n",
            "1998 ==> 8.56\n",
            "1999 ==> 8.29\n",
            "2000 ==> 6.50\n",
            "2001 ==> 4.31\n",
            "2002 ==> 2.53\n",
            "2003 ==> 5.68\n",
            "2004 ==> 7.19\n",
            "2005 ==> 6.63\n",
            "2006 ==> 5.15\n",
            "2007 ==> 0.84\n",
            "2008 ==> 7.21\n",
            "2009 ==> 5.78\n",
            "2010 ==> 5.44\n",
            "2011 ==> 4.84\n",
            "2012 ==> 3.46\n",
            "2013 ==> 5.79\n",
            "2014 ==> 6.13\n",
            "2015 ==> 5.80\n",
            "2016 ==> 3.55\n",
            "2017 ==> 3.56\n",
            "2018 ==> 2.65\n",
            "2019 ==> 4.52\n",
            "2020 ==> 9.36\n",
            "2021 ==> 7.35\n",
            "2022 ==> 6.74\n"
          ]
        }
      ]
    },
    {
      "cell_type": "markdown",
      "source": [
        "#### 方法二"
      ],
      "metadata": {
        "id": "zNhXBX78dzXM"
      }
    },
    {
      "cell_type": "code",
      "source": [
        "for i in range(len(data)):\n",
        "  print(i)"
      ],
      "metadata": {
        "colab": {
          "base_uri": "https://localhost:8080/"
        },
        "id": "U_RL6lL8Z_Nk",
        "outputId": "afdce545-fd0a-4dab-db31-546f0c54ee34"
      },
      "execution_count": null,
      "outputs": [
        {
          "output_type": "stream",
          "name": "stdout",
          "text": [
            "0\n",
            "1\n",
            "2\n",
            "3\n",
            "4\n",
            "5\n",
            "6\n",
            "7\n",
            "8\n",
            "9\n",
            "10\n",
            "11\n",
            "12\n",
            "13\n",
            "14\n",
            "15\n",
            "16\n",
            "17\n",
            "18\n",
            "19\n",
            "20\n",
            "21\n",
            "22\n",
            "23\n",
            "24\n",
            "25\n",
            "26\n",
            "27\n",
            "28\n"
          ]
        }
      ]
    },
    {
      "cell_type": "code",
      "source": [
        "for i in range(len(data)):\n",
        "  print(data[i]['年度'], \"==>\", data[i]['貨幣供給額期底年增率-M2'])"
      ],
      "metadata": {
        "colab": {
          "base_uri": "https://localhost:8080/"
        },
        "id": "lNKpEdb1d2A6",
        "outputId": "2eaecc83-ba27-4838-b664-841fe33f10ac"
      },
      "execution_count": null,
      "outputs": [
        {
          "output_type": "stream",
          "name": "stdout",
          "text": [
            "1994 ==> 15.07\n",
            "1995 ==> 9.42\n",
            "1996 ==> 9.13\n",
            "1997 ==> 8.02\n",
            "1998 ==> 8.56\n",
            "1999 ==> 8.29\n",
            "2000 ==> 6.50\n",
            "2001 ==> 4.31\n",
            "2002 ==> 2.53\n",
            "2003 ==> 5.68\n",
            "2004 ==> 7.19\n",
            "2005 ==> 6.63\n",
            "2006 ==> 5.15\n",
            "2007 ==> 0.84\n",
            "2008 ==> 7.21\n",
            "2009 ==> 5.78\n",
            "2010 ==> 5.44\n",
            "2011 ==> 4.84\n",
            "2012 ==> 3.46\n",
            "2013 ==> 5.79\n",
            "2014 ==> 6.13\n",
            "2015 ==> 5.80\n",
            "2016 ==> 3.55\n",
            "2017 ==> 3.56\n",
            "2018 ==> 2.65\n",
            "2019 ==> 4.52\n",
            "2020 ==> 9.36\n",
            "2021 ==> 7.35\n",
            "2022 ==> 6.74\n"
          ]
        }
      ]
    },
    {
      "cell_type": "markdown",
      "source": [
        "## 資料分析基礎套件\n",
        "\n",
        "* numpy ==> 科學運算基礎套件\n",
        "* matplotlib ==> 繪圖基礎套件\n",
        "* pandas ==> 資料分析基礎套件"
      ],
      "metadata": {
        "id": "K3crGdOdhVjK"
      }
    },
    {
      "cell_type": "markdown",
      "source": [
        "### 套件載入的慣用法\n",
        "\n",
        "```python\n",
        "import numpy as np\n",
        "import matplotlib.pyplot as plt\n",
        "import pandas as pd\n",
        "```"
      ],
      "metadata": {
        "id": "pzMCb30lhy8t"
      }
    },
    {
      "cell_type": "markdown",
      "source": [
        "### NumPy\n",
        "\n",
        "NumPy ==> **Num**erical **Py**thon\n",
        "\n",
        "* ndarray (多維陣列) ==> N-Dimensional Arrays\n",
        "* ufunc (通用函式) ==> Universal Functions"
      ],
      "metadata": {
        "id": "0FnqVO-uibcM"
      }
    },
    {
      "cell_type": "code",
      "source": [
        "import numpy as np"
      ],
      "metadata": {
        "id": "-pJiXkamhc92"
      },
      "execution_count": null,
      "outputs": []
    },
    {
      "cell_type": "markdown",
      "source": [
        "### ndarray"
      ],
      "metadata": {
        "id": "1i0xR46gmdwP"
      }
    },
    {
      "cell_type": "markdown",
      "source": [
        "#### 原生的python的容器型別的限制\n",
        "\n",
        "無法簡單的做到科學運算(向量運算)！"
      ],
      "metadata": {
        "id": "JW0Bg_qPlfy_"
      }
    },
    {
      "cell_type": "code",
      "source": [
        "x = [1, 2, 3]\n",
        "y = [4, 5, 6]"
      ],
      "metadata": {
        "id": "1qLQ4R7cirDE"
      },
      "execution_count": null,
      "outputs": []
    },
    {
      "cell_type": "code",
      "source": [
        "x + y"
      ],
      "metadata": {
        "colab": {
          "base_uri": "https://localhost:8080/"
        },
        "id": "Ez3KU8J3kXQ3",
        "outputId": "4c1e940a-b6c5-4c8d-f702-8228efa94284"
      },
      "execution_count": null,
      "outputs": [
        {
          "output_type": "execute_result",
          "data": {
            "text/plain": [
              "[1, 2, 3, 4, 5, 6]"
            ]
          },
          "metadata": {},
          "execution_count": 17
        }
      ]
    },
    {
      "cell_type": "code",
      "source": [
        "2 * x"
      ],
      "metadata": {
        "colab": {
          "base_uri": "https://localhost:8080/"
        },
        "id": "n1iWtjuoka7m",
        "outputId": "c37c2073-f6fe-4979-9710-27f38a0d651c"
      },
      "execution_count": null,
      "outputs": [
        {
          "output_type": "execute_result",
          "data": {
            "text/plain": [
              "[1, 2, 3, 1, 2, 3]"
            ]
          },
          "metadata": {},
          "execution_count": 18
        }
      ]
    },
    {
      "cell_type": "markdown",
      "source": [
        "#### 使用numpy的ndarray來解決科學運算的問題"
      ],
      "metadata": {
        "id": "iw4xp0kXluRx"
      }
    },
    {
      "cell_type": "code",
      "source": [
        "x1 = np.array(x)\n",
        "y1 = np.array(y)"
      ],
      "metadata": {
        "id": "PSECyB-Vkt4k"
      },
      "execution_count": null,
      "outputs": []
    },
    {
      "cell_type": "code",
      "source": [
        "type(x1)"
      ],
      "metadata": {
        "colab": {
          "base_uri": "https://localhost:8080/"
        },
        "id": "mY1hHHC6lKaH",
        "outputId": "701a4e0c-65c7-4e85-a7b6-e97a0d5ade4e"
      },
      "execution_count": null,
      "outputs": [
        {
          "output_type": "execute_result",
          "data": {
            "text/plain": [
              "numpy.ndarray"
            ]
          },
          "metadata": {},
          "execution_count": 21
        }
      ]
    },
    {
      "cell_type": "code",
      "source": [
        "x1"
      ],
      "metadata": {
        "colab": {
          "base_uri": "https://localhost:8080/"
        },
        "id": "1MvQI1uAlXWQ",
        "outputId": "86fb1c5f-2a76-4144-944f-d1e6b9cf10d2"
      },
      "execution_count": null,
      "outputs": [
        {
          "output_type": "execute_result",
          "data": {
            "text/plain": [
              "array([1, 2, 3])"
            ]
          },
          "metadata": {},
          "execution_count": 23
        }
      ]
    },
    {
      "cell_type": "code",
      "source": [
        "y1"
      ],
      "metadata": {
        "colab": {
          "base_uri": "https://localhost:8080/"
        },
        "id": "ADSdHqEflZLF",
        "outputId": "129c613a-ee3e-4974-f0dd-c5bdd5311db6"
      },
      "execution_count": null,
      "outputs": [
        {
          "output_type": "execute_result",
          "data": {
            "text/plain": [
              "array([4, 5, 6])"
            ]
          },
          "metadata": {},
          "execution_count": 24
        }
      ]
    },
    {
      "cell_type": "code",
      "source": [
        "x1 + y1"
      ],
      "metadata": {
        "colab": {
          "base_uri": "https://localhost:8080/"
        },
        "id": "NXWPHuPMlLOq",
        "outputId": "18cd3401-47da-467d-840f-dd6fbbb84d23"
      },
      "execution_count": null,
      "outputs": [
        {
          "output_type": "execute_result",
          "data": {
            "text/plain": [
              "array([5, 7, 9])"
            ]
          },
          "metadata": {},
          "execution_count": 22
        }
      ]
    },
    {
      "cell_type": "code",
      "source": [
        "2 * x1"
      ],
      "metadata": {
        "colab": {
          "base_uri": "https://localhost:8080/"
        },
        "id": "vWWBMTp4lVE0",
        "outputId": "54c7cec6-f208-4664-b982-fd13a5b98d24"
      },
      "execution_count": null,
      "outputs": [
        {
          "output_type": "execute_result",
          "data": {
            "text/plain": [
              "array([2, 4, 6])"
            ]
          },
          "metadata": {},
          "execution_count": 25
        }
      ]
    },
    {
      "cell_type": "markdown",
      "source": [
        "### ufunc"
      ],
      "metadata": {
        "id": "S4dq87sCmham"
      }
    },
    {
      "cell_type": "markdown",
      "source": [
        "#### 原生的python的數學運算"
      ],
      "metadata": {
        "id": "iFoe6DtVn5bp"
      }
    },
    {
      "cell_type": "code",
      "source": [
        "import math"
      ],
      "metadata": {
        "id": "mTBQ_cR4lbpn"
      },
      "execution_count": null,
      "outputs": []
    },
    {
      "cell_type": "code",
      "source": [
        "math.pi"
      ],
      "metadata": {
        "colab": {
          "base_uri": "https://localhost:8080/"
        },
        "id": "b0tXp81Pm4PV",
        "outputId": "8b3c31bc-4300-4cfc-c5f0-ff6568a9a448"
      },
      "execution_count": null,
      "outputs": [
        {
          "output_type": "execute_result",
          "data": {
            "text/plain": [
              "3.141592653589793"
            ]
          },
          "metadata": {},
          "execution_count": 27
        }
      ]
    },
    {
      "cell_type": "code",
      "source": [
        "math.sin(math.pi/2)"
      ],
      "metadata": {
        "colab": {
          "base_uri": "https://localhost:8080/"
        },
        "id": "2zOLZYOIm7fA",
        "outputId": "0563294a-df0c-4589-fd70-a432eb7bd7d5"
      },
      "execution_count": null,
      "outputs": [
        {
          "output_type": "execute_result",
          "data": {
            "text/plain": [
              "1.0"
            ]
          },
          "metadata": {},
          "execution_count": 28
        }
      ]
    },
    {
      "cell_type": "code",
      "source": [
        "math.sin(x)"
      ],
      "metadata": {
        "colab": {
          "base_uri": "https://localhost:8080/",
          "height": 168
        },
        "id": "DQwvkwRWnAIi",
        "outputId": "e440c346-a00b-43e3-a4fc-0eeba69f13ce"
      },
      "execution_count": null,
      "outputs": [
        {
          "output_type": "error",
          "ename": "TypeError",
          "evalue": "ignored",
          "traceback": [
            "\u001b[0;31m---------------------------------------------------------------------------\u001b[0m",
            "\u001b[0;31mTypeError\u001b[0m                                 Traceback (most recent call last)",
            "\u001b[0;32m<ipython-input-30-514904a8605d>\u001b[0m in \u001b[0;36m<module>\u001b[0;34m\u001b[0m\n\u001b[0;32m----> 1\u001b[0;31m \u001b[0mmath\u001b[0m\u001b[0;34m.\u001b[0m\u001b[0msin\u001b[0m\u001b[0;34m(\u001b[0m\u001b[0mx\u001b[0m\u001b[0;34m)\u001b[0m\u001b[0;34m\u001b[0m\u001b[0;34m\u001b[0m\u001b[0m\n\u001b[0m",
            "\u001b[0;31mTypeError\u001b[0m: must be real number, not list"
          ]
        }
      ]
    },
    {
      "cell_type": "markdown",
      "source": [
        "#### 比較一下 numpy 的使用"
      ],
      "metadata": {
        "id": "9pgmyRtMoATr"
      }
    },
    {
      "cell_type": "code",
      "source": [
        "np.pi"
      ],
      "metadata": {
        "colab": {
          "base_uri": "https://localhost:8080/"
        },
        "id": "56VXXtQUnY_6",
        "outputId": "8af20ff4-0cd7-41b5-e346-7cb438574bda"
      },
      "execution_count": null,
      "outputs": [
        {
          "output_type": "execute_result",
          "data": {
            "text/plain": [
              "3.141592653589793"
            ]
          },
          "metadata": {},
          "execution_count": 31
        }
      ]
    },
    {
      "cell_type": "code",
      "source": [
        "np.sin(np.pi/2)"
      ],
      "metadata": {
        "colab": {
          "base_uri": "https://localhost:8080/"
        },
        "id": "v5MJgquunjgS",
        "outputId": "82430879-a3d0-4dc4-abdd-ab10845e5e31"
      },
      "execution_count": null,
      "outputs": [
        {
          "output_type": "execute_result",
          "data": {
            "text/plain": [
              "1.0"
            ]
          },
          "metadata": {},
          "execution_count": 33
        }
      ]
    },
    {
      "cell_type": "code",
      "source": [
        "np.sin(x)"
      ],
      "metadata": {
        "colab": {
          "base_uri": "https://localhost:8080/"
        },
        "id": "h1t3My1NnlXu",
        "outputId": "3b6dac1c-6371-4d73-d831-3a7d4725531e"
      },
      "execution_count": null,
      "outputs": [
        {
          "output_type": "execute_result",
          "data": {
            "text/plain": [
              "array([0.84147098, 0.90929743, 0.14112001])"
            ]
          },
          "metadata": {},
          "execution_count": 34
        }
      ]
    },
    {
      "cell_type": "markdown",
      "source": [
        "### ndarray 附帶的屬性 (properties)"
      ],
      "metadata": {
        "id": "-l1Dxl5Ur1F6"
      }
    },
    {
      "cell_type": "code",
      "source": [
        "x"
      ],
      "metadata": {
        "colab": {
          "base_uri": "https://localhost:8080/"
        },
        "id": "zoPQRCWWr-da",
        "outputId": "0f8ce643-d1c6-4dc3-a02e-3e09d268e6e5"
      },
      "execution_count": null,
      "outputs": [
        {
          "output_type": "execute_result",
          "data": {
            "text/plain": [
              "[1, 2, 3]"
            ]
          },
          "metadata": {},
          "execution_count": 35
        }
      ]
    },
    {
      "cell_type": "code",
      "source": [
        "x1"
      ],
      "metadata": {
        "colab": {
          "base_uri": "https://localhost:8080/"
        },
        "id": "X_YFYdvcsmWL",
        "outputId": "ad7918c0-8bf1-445a-bd58-66820a50087a"
      },
      "execution_count": null,
      "outputs": [
        {
          "output_type": "execute_result",
          "data": {
            "text/plain": [
              "array([1, 2, 3])"
            ]
          },
          "metadata": {},
          "execution_count": 36
        }
      ]
    },
    {
      "cell_type": "code",
      "source": [
        "# 資料型態\n",
        "x1.dtype"
      ],
      "metadata": {
        "colab": {
          "base_uri": "https://localhost:8080/"
        },
        "id": "ytP-w7CysnGW",
        "outputId": "ac44e310-689a-4788-af68-e35c4a0f39c8"
      },
      "execution_count": null,
      "outputs": [
        {
          "output_type": "execute_result",
          "data": {
            "text/plain": [
              "dtype('int64')"
            ]
          },
          "metadata": {},
          "execution_count": 37
        }
      ]
    },
    {
      "cell_type": "code",
      "source": [
        "# 資料的形狀\n",
        "x1.shape"
      ],
      "metadata": {
        "colab": {
          "base_uri": "https://localhost:8080/"
        },
        "id": "aeh1nwjPsrhR",
        "outputId": "70c808aa-37cb-4dff-a66f-f52df003c853"
      },
      "execution_count": null,
      "outputs": [
        {
          "output_type": "execute_result",
          "data": {
            "text/plain": [
              "(3,)"
            ]
          },
          "metadata": {},
          "execution_count": 38
        }
      ]
    },
    {
      "cell_type": "code",
      "source": [
        "# 資料的個數\n",
        "x1.size"
      ],
      "metadata": {
        "colab": {
          "base_uri": "https://localhost:8080/"
        },
        "id": "FUVpkPzRs1Ca",
        "outputId": "ead6ff7c-53c1-4b6b-c4b4-8a2c9fc26d29"
      },
      "execution_count": null,
      "outputs": [
        {
          "output_type": "execute_result",
          "data": {
            "text/plain": [
              "3"
            ]
          },
          "metadata": {},
          "execution_count": 40
        }
      ]
    },
    {
      "cell_type": "markdown",
      "source": [
        "### ndarray 的 indexing 跟 slicing"
      ],
      "metadata": {
        "id": "vk-4C4darulb"
      }
    },
    {
      "cell_type": "code",
      "source": [
        "# np.arange() 類似 range()，但是會產生ndarray\n",
        "F = np.arange(25)"
      ],
      "metadata": {
        "id": "sJAyjVJynpbT"
      },
      "execution_count": null,
      "outputs": []
    },
    {
      "cell_type": "code",
      "source": [
        "F"
      ],
      "metadata": {
        "colab": {
          "base_uri": "https://localhost:8080/"
        },
        "id": "Fe-mZkoOtNOh",
        "outputId": "12e154ba-abcc-42ad-ee96-b6fb5dad2292"
      },
      "execution_count": null,
      "outputs": [
        {
          "output_type": "execute_result",
          "data": {
            "text/plain": [
              "array([ 0,  1,  2,  3,  4,  5,  6,  7,  8,  9, 10, 11, 12, 13, 14, 15, 16,\n",
              "       17, 18, 19, 20, 21, 22, 23, 24])"
            ]
          },
          "metadata": {},
          "execution_count": 51
        }
      ]
    },
    {
      "cell_type": "code",
      "source": [
        "F.dtype"
      ],
      "metadata": {
        "colab": {
          "base_uri": "https://localhost:8080/"
        },
        "id": "MZHlibujtNrC",
        "outputId": "75096af5-4f48-4aa1-bafd-b48ce8e763b0"
      },
      "execution_count": null,
      "outputs": [
        {
          "output_type": "execute_result",
          "data": {
            "text/plain": [
              "dtype('int64')"
            ]
          },
          "metadata": {},
          "execution_count": 52
        }
      ]
    },
    {
      "cell_type": "code",
      "source": [
        "F.shape"
      ],
      "metadata": {
        "colab": {
          "base_uri": "https://localhost:8080/"
        },
        "id": "cz7IOphbtkiH",
        "outputId": "f0cbaf70-b5da-4034-c77e-db98682894f1"
      },
      "execution_count": null,
      "outputs": [
        {
          "output_type": "execute_result",
          "data": {
            "text/plain": [
              "(25,)"
            ]
          },
          "metadata": {},
          "execution_count": 53
        }
      ]
    },
    {
      "cell_type": "code",
      "source": [
        "F.reshape(5, 5)"
      ],
      "metadata": {
        "colab": {
          "base_uri": "https://localhost:8080/"
        },
        "id": "ca7itZBKtmgt",
        "outputId": "e3f3d2f3-29b0-4f29-d3b6-6074dfa39a05"
      },
      "execution_count": null,
      "outputs": [
        {
          "output_type": "execute_result",
          "data": {
            "text/plain": [
              "array([[ 0,  1,  2,  3,  4],\n",
              "       [ 5,  6,  7,  8,  9],\n",
              "       [10, 11, 12, 13, 14],\n",
              "       [15, 16, 17, 18, 19],\n",
              "       [20, 21, 22, 23, 24]])"
            ]
          },
          "metadata": {},
          "execution_count": 54
        }
      ]
    },
    {
      "cell_type": "code",
      "source": [
        "F"
      ],
      "metadata": {
        "colab": {
          "base_uri": "https://localhost:8080/"
        },
        "id": "2QlCeKN1ts7p",
        "outputId": "f4ab5d08-b78c-44cc-a40a-74146eb21c3f"
      },
      "execution_count": null,
      "outputs": [
        {
          "output_type": "execute_result",
          "data": {
            "text/plain": [
              "array([ 0,  1,  2,  3,  4,  5,  6,  7,  8,  9, 10, 11, 12, 13, 14, 15, 16,\n",
              "       17, 18, 19, 20, 21, 22, 23, 24])"
            ]
          },
          "metadata": {},
          "execution_count": 55
        }
      ]
    },
    {
      "cell_type": "code",
      "source": [
        "G = F.reshape(5, 5)"
      ],
      "metadata": {
        "id": "R1WWaomptzcn"
      },
      "execution_count": null,
      "outputs": []
    },
    {
      "cell_type": "code",
      "source": [
        "G"
      ],
      "metadata": {
        "colab": {
          "base_uri": "https://localhost:8080/"
        },
        "id": "tVfjq9dTt3Av",
        "outputId": "baa354e2-8ec6-49c9-c191-5dd00cd29996"
      },
      "execution_count": null,
      "outputs": [
        {
          "output_type": "execute_result",
          "data": {
            "text/plain": [
              "array([[ 0,  1,  2,  3,  4],\n",
              "       [ 5,  6,  7,  8,  9],\n",
              "       [10, 11, 12, 13, 14],\n",
              "       [15, 16, 17, 18, 19],\n",
              "       [20, 21, 22, 23, 24]])"
            ]
          },
          "metadata": {},
          "execution_count": 57
        }
      ]
    },
    {
      "cell_type": "code",
      "source": [
        "G.shape"
      ],
      "metadata": {
        "colab": {
          "base_uri": "https://localhost:8080/"
        },
        "id": "J8vb1VGqt3kB",
        "outputId": "88e8a3c4-3f5b-4649-b1c6-65739e57c3a5"
      },
      "execution_count": null,
      "outputs": [
        {
          "output_type": "execute_result",
          "data": {
            "text/plain": [
              "(5, 5)"
            ]
          },
          "metadata": {},
          "execution_count": 58
        }
      ]
    },
    {
      "cell_type": "markdown",
      "source": [
        "#### indexing"
      ],
      "metadata": {
        "id": "MuDCKWG9uCqN"
      }
    },
    {
      "cell_type": "code",
      "source": [
        "F"
      ],
      "metadata": {
        "colab": {
          "base_uri": "https://localhost:8080/"
        },
        "id": "uZTZz8oct5Ic",
        "outputId": "8d7e2986-f9a7-4813-b7e0-d26b25c9f172"
      },
      "execution_count": null,
      "outputs": [
        {
          "output_type": "execute_result",
          "data": {
            "text/plain": [
              "array([ 0,  1,  2,  3,  4,  5,  6,  7,  8,  9, 10, 11, 12, 13, 14, 15, 16,\n",
              "       17, 18, 19, 20, 21, 22, 23, 24])"
            ]
          },
          "metadata": {},
          "execution_count": 59
        }
      ]
    },
    {
      "cell_type": "code",
      "source": [
        "F[0]"
      ],
      "metadata": {
        "colab": {
          "base_uri": "https://localhost:8080/"
        },
        "id": "VTAMfs4-uZOz",
        "outputId": "3fe8ac23-7c2b-4b29-e053-ab74e1e00270"
      },
      "execution_count": null,
      "outputs": [
        {
          "output_type": "execute_result",
          "data": {
            "text/plain": [
              "0"
            ]
          },
          "metadata": {},
          "execution_count": 60
        }
      ]
    },
    {
      "cell_type": "code",
      "source": [
        "F[-1]"
      ],
      "metadata": {
        "colab": {
          "base_uri": "https://localhost:8080/"
        },
        "id": "O9Q4xMU6ucSV",
        "outputId": "73f450e6-9100-415d-8a81-8acf97cb3c03"
      },
      "execution_count": null,
      "outputs": [
        {
          "output_type": "execute_result",
          "data": {
            "text/plain": [
              "24"
            ]
          },
          "metadata": {},
          "execution_count": 61
        }
      ]
    },
    {
      "cell_type": "code",
      "source": [
        "G"
      ],
      "metadata": {
        "colab": {
          "base_uri": "https://localhost:8080/"
        },
        "id": "JP-l5GNcudNI",
        "outputId": "edc97efa-c0a3-47e0-df65-0422020bb89b"
      },
      "execution_count": null,
      "outputs": [
        {
          "output_type": "execute_result",
          "data": {
            "text/plain": [
              "array([[ 0,  1,  2,  3,  4],\n",
              "       [ 5,  6,  7,  8,  9],\n",
              "       [10, 11, 12, 13, 14],\n",
              "       [15, 16, 17, 18, 19],\n",
              "       [20, 21, 22, 23, 24]])"
            ]
          },
          "metadata": {},
          "execution_count": 62
        }
      ]
    },
    {
      "cell_type": "code",
      "source": [
        "G[2]"
      ],
      "metadata": {
        "colab": {
          "base_uri": "https://localhost:8080/"
        },
        "id": "GoHAjDPVujHH",
        "outputId": "85a3bc04-b664-4744-ddc1-c0f2bd9d67c2"
      },
      "execution_count": null,
      "outputs": [
        {
          "output_type": "execute_result",
          "data": {
            "text/plain": [
              "array([10, 11, 12, 13, 14])"
            ]
          },
          "metadata": {},
          "execution_count": 63
        }
      ]
    },
    {
      "cell_type": "code",
      "source": [
        "G[2][2]"
      ],
      "metadata": {
        "colab": {
          "base_uri": "https://localhost:8080/"
        },
        "id": "p9Cdb69quwXg",
        "outputId": "19c9f9e7-42b0-4cf1-954b-a9440d118de4"
      },
      "execution_count": null,
      "outputs": [
        {
          "output_type": "execute_result",
          "data": {
            "text/plain": [
              "12"
            ]
          },
          "metadata": {},
          "execution_count": 64
        }
      ]
    },
    {
      "cell_type": "code",
      "source": [
        "G[2, 2]"
      ],
      "metadata": {
        "colab": {
          "base_uri": "https://localhost:8080/"
        },
        "id": "7T7pitd6uyHU",
        "outputId": "40f1be70-eed8-40e0-d25d-624ac464727b"
      },
      "execution_count": null,
      "outputs": [
        {
          "output_type": "execute_result",
          "data": {
            "text/plain": [
              "12"
            ]
          },
          "metadata": {},
          "execution_count": 65
        }
      ]
    },
    {
      "cell_type": "markdown",
      "source": [
        "#### slicing"
      ],
      "metadata": {
        "id": "vpoqS3uhvU7i"
      }
    },
    {
      "cell_type": "code",
      "source": [
        "G"
      ],
      "metadata": {
        "colab": {
          "base_uri": "https://localhost:8080/"
        },
        "id": "fyEOwy7gvA4v",
        "outputId": "7f5b4ccd-a5cd-450b-e85c-f2be64a72c86"
      },
      "execution_count": null,
      "outputs": [
        {
          "output_type": "execute_result",
          "data": {
            "text/plain": [
              "array([[ 0,  1,  2,  3,  4],\n",
              "       [ 5,  6,  7,  8,  9],\n",
              "       [10, 11, 12, 13, 14],\n",
              "       [15, 16, 17, 18, 19],\n",
              "       [20, 21, 22, 23, 24]])"
            ]
          },
          "metadata": {},
          "execution_count": 66
        }
      ]
    },
    {
      "cell_type": "code",
      "source": [
        "G[1:3, 1:3]"
      ],
      "metadata": {
        "colab": {
          "base_uri": "https://localhost:8080/"
        },
        "id": "oEPJG0HHvW7y",
        "outputId": "789e0409-2a56-4d21-e390-9c3bb9294763"
      },
      "execution_count": null,
      "outputs": [
        {
          "output_type": "execute_result",
          "data": {
            "text/plain": [
              "array([[ 6,  7],\n",
              "       [11, 12]])"
            ]
          },
          "metadata": {},
          "execution_count": 67
        }
      ]
    },
    {
      "cell_type": "markdown",
      "source": [
        "## 回答問題\n",
        "\n",
        "### Q: 如果np的ufunc都會主動將list轉換成ndarray，我們是不是可以省略 np.array(x) 這樣的轉換？"
      ],
      "metadata": {
        "id": "canTHO20v16y"
      }
    },
    {
      "cell_type": "code",
      "source": [
        "x"
      ],
      "metadata": {
        "colab": {
          "base_uri": "https://localhost:8080/"
        },
        "id": "pbMmUZdHvZCm",
        "outputId": "0eafc202-5525-48ac-c688-0cd5641edcc0"
      },
      "execution_count": null,
      "outputs": [
        {
          "output_type": "execute_result",
          "data": {
            "text/plain": [
              "[1, 2, 3]"
            ]
          },
          "metadata": {},
          "execution_count": 68
        }
      ]
    },
    {
      "cell_type": "code",
      "source": [
        "x ** 2"
      ],
      "metadata": {
        "colab": {
          "base_uri": "https://localhost:8080/",
          "height": 168
        },
        "id": "inffVGe0wGbQ",
        "outputId": "b89d0562-bd82-467d-f398-6c5d92957d62"
      },
      "execution_count": null,
      "outputs": [
        {
          "output_type": "error",
          "ename": "TypeError",
          "evalue": "ignored",
          "traceback": [
            "\u001b[0;31m---------------------------------------------------------------------------\u001b[0m",
            "\u001b[0;31mTypeError\u001b[0m                                 Traceback (most recent call last)",
            "\u001b[0;32m<ipython-input-69-519b2adf25af>\u001b[0m in \u001b[0;36m<module>\u001b[0;34m\u001b[0m\n\u001b[0;32m----> 1\u001b[0;31m \u001b[0mx\u001b[0m \u001b[0;34m**\u001b[0m \u001b[0;36m2\u001b[0m\u001b[0;34m\u001b[0m\u001b[0;34m\u001b[0m\u001b[0m\n\u001b[0m",
            "\u001b[0;31mTypeError\u001b[0m: unsupported operand type(s) for ** or pow(): 'list' and 'int'"
          ]
        }
      ]
    },
    {
      "cell_type": "code",
      "source": [
        "x1 ** 2"
      ],
      "metadata": {
        "colab": {
          "base_uri": "https://localhost:8080/"
        },
        "id": "oWmi73hywIq2",
        "outputId": "175782e2-9e42-4be0-943e-a2e896a8fe4d"
      },
      "execution_count": null,
      "outputs": [
        {
          "output_type": "execute_result",
          "data": {
            "text/plain": [
              "array([1, 4, 9])"
            ]
          },
          "metadata": {},
          "execution_count": 70
        }
      ]
    },
    {
      "cell_type": "markdown",
      "source": [
        "### 練習\n",
        "\n",
        "請問如何取得二維的ndarray的第一欄及最後一欄的資料？"
      ],
      "metadata": {
        "id": "4Ht3Z1X0wmxj"
      }
    },
    {
      "cell_type": "code",
      "source": [
        "G"
      ],
      "metadata": {
        "colab": {
          "base_uri": "https://localhost:8080/"
        },
        "id": "yXykICejwKlL",
        "outputId": "d5466287-af17-4507-c72b-ecc39348857d"
      },
      "execution_count": null,
      "outputs": [
        {
          "output_type": "execute_result",
          "data": {
            "text/plain": [
              "array([[ 0,  1,  2,  3,  4],\n",
              "       [ 5,  6,  7,  8,  9],\n",
              "       [10, 11, 12, 13, 14],\n",
              "       [15, 16, 17, 18, 19],\n",
              "       [20, 21, 22, 23, 24]])"
            ]
          },
          "metadata": {},
          "execution_count": 71
        }
      ]
    },
    {
      "cell_type": "code",
      "source": [
        "G[:,0]"
      ],
      "metadata": {
        "colab": {
          "base_uri": "https://localhost:8080/"
        },
        "id": "isufZBzlwzO-",
        "outputId": "8670960a-7a15-4684-884b-d72fa42d3df9"
      },
      "execution_count": null,
      "outputs": [
        {
          "output_type": "execute_result",
          "data": {
            "text/plain": [
              "array([ 0,  5, 10, 15, 20])"
            ]
          },
          "metadata": {},
          "execution_count": 72
        }
      ]
    },
    {
      "cell_type": "code",
      "source": [
        "G[:,-1]"
      ],
      "metadata": {
        "colab": {
          "base_uri": "https://localhost:8080/"
        },
        "id": "P2zEZ5DQxA_i",
        "outputId": "188ac5e4-0fa7-4d8c-ea13-0e0fc97e433c"
      },
      "execution_count": null,
      "outputs": [
        {
          "output_type": "execute_result",
          "data": {
            "text/plain": [
              "array([ 4,  9, 14, 19, 24])"
            ]
          },
          "metadata": {},
          "execution_count": 73
        }
      ]
    },
    {
      "cell_type": "code",
      "source": [
        "G"
      ],
      "metadata": {
        "colab": {
          "base_uri": "https://localhost:8080/"
        },
        "id": "Wdj9mY17xEua",
        "outputId": "3920bf29-3b3e-4993-90fa-a81107c3c293"
      },
      "execution_count": null,
      "outputs": [
        {
          "output_type": "execute_result",
          "data": {
            "text/plain": [
              "array([[ 0,  1,  2,  3,  4],\n",
              "       [ 5,  6,  7,  8,  9],\n",
              "       [10, 11, 12, 13, 14],\n",
              "       [15, 16, 17, 18, 19],\n",
              "       [20, 21, 22, 23, 24]])"
            ]
          },
          "metadata": {},
          "execution_count": 74
        }
      ]
    },
    {
      "cell_type": "code",
      "source": [
        "G[:, 0] = 0"
      ],
      "metadata": {
        "id": "7TD9QGZexQ_7"
      },
      "execution_count": null,
      "outputs": []
    },
    {
      "cell_type": "code",
      "source": [
        "G"
      ],
      "metadata": {
        "colab": {
          "base_uri": "https://localhost:8080/"
        },
        "id": "K067NaeyxUA8",
        "outputId": "fa583092-bd29-40d8-d5b8-34ec390b689e"
      },
      "execution_count": null,
      "outputs": [
        {
          "output_type": "execute_result",
          "data": {
            "text/plain": [
              "array([[ 0,  1,  2,  3,  4],\n",
              "       [ 0,  6,  7,  8,  9],\n",
              "       [ 0, 11, 12, 13, 14],\n",
              "       [ 0, 16, 17, 18, 19],\n",
              "       [ 0, 21, 22, 23, 24]])"
            ]
          },
          "metadata": {},
          "execution_count": 76
        }
      ]
    },
    {
      "cell_type": "code",
      "source": [
        "G[1:3, 1:3]"
      ],
      "metadata": {
        "colab": {
          "base_uri": "https://localhost:8080/"
        },
        "id": "yDjZB4YmxUnR",
        "outputId": "ff5d686f-991d-49eb-a617-21184f708a5d"
      },
      "execution_count": null,
      "outputs": [
        {
          "output_type": "execute_result",
          "data": {
            "text/plain": [
              "array([[ 6,  7],\n",
              "       [11, 12]])"
            ]
          },
          "metadata": {},
          "execution_count": 77
        }
      ]
    },
    {
      "cell_type": "code",
      "source": [
        "G[1:3, 2]"
      ],
      "metadata": {
        "colab": {
          "base_uri": "https://localhost:8080/"
        },
        "id": "mm8_-_qBzjM6",
        "outputId": "a45c3046-8f93-4af8-9591-4afb1d8c50ea"
      },
      "execution_count": null,
      "outputs": [
        {
          "output_type": "execute_result",
          "data": {
            "text/plain": [
              "array([ 7, 12])"
            ]
          },
          "metadata": {},
          "execution_count": 78
        }
      ]
    },
    {
      "cell_type": "markdown",
      "source": [
        "## MatPlotLib\n",
        "\n",
        "MatPlotLib ==> **Mat**rix **Plot**ting **Lib**rary\n",
        "\n",
        "* pyplot\n",
        "* artist\n",
        "\n",
        "Reference:\n",
        "https://matplotlib.org/stable/index.html"
      ],
      "metadata": {
        "id": "MhzoiBiGz3QU"
      }
    },
    {
      "cell_type": "code",
      "source": [
        "import matplotlib.pyplot as plt"
      ],
      "metadata": {
        "id": "ZbpY5q6qzl0r"
      },
      "execution_count": null,
      "outputs": []
    },
    {
      "cell_type": "markdown",
      "source": [
        "### 折線圖 (Line Chart)"
      ],
      "metadata": {
        "id": "H0GNRBzY0ZuT"
      }
    },
    {
      "cell_type": "code",
      "source": [
        "x"
      ],
      "metadata": {
        "colab": {
          "base_uri": "https://localhost:8080/"
        },
        "id": "tRjYWI1L0UxB",
        "outputId": "159bf69a-c6f6-486e-f2c7-5625727db978"
      },
      "execution_count": null,
      "outputs": [
        {
          "output_type": "execute_result",
          "data": {
            "text/plain": [
              "[1, 2, 3]"
            ]
          },
          "metadata": {},
          "execution_count": 80
        }
      ]
    },
    {
      "cell_type": "code",
      "source": [
        "plt.plot(x)"
      ],
      "metadata": {
        "colab": {
          "base_uri": "https://localhost:8080/",
          "height": 283
        },
        "id": "9gbOolbm0WHw",
        "outputId": "a282a7b3-c77d-424f-c2f1-9306ace3d560"
      },
      "execution_count": null,
      "outputs": [
        {
          "output_type": "execute_result",
          "data": {
            "text/plain": [
              "[<matplotlib.lines.Line2D at 0x7fc6a3d5b970>]"
            ]
          },
          "metadata": {},
          "execution_count": 81
        },
        {
          "output_type": "display_data",
          "data": {
            "text/plain": [
              "<Figure size 432x288 with 1 Axes>"
            ],
            "image/png": "[encoded data removed]"
          },
          "metadata": {
            "needs_background": "light"
          }
        }
      ]
    },
    {
      "cell_type": "markdown",
      "source": [
        "### Markers, Line Styles, Colors\n",
        "\n",
        "https://matplotlib.org/stable/api/_as_gen/matplotlib.pyplot.plot.html"
      ],
      "metadata": {
        "id": "0TPyCuYE1AH5"
      }
    },
    {
      "cell_type": "code",
      "source": [
        "plt.plot(x, \"ro-\")"
      ],
      "metadata": {
        "colab": {
          "base_uri": "https://localhost:8080/",
          "height": 283
        },
        "id": "ZcqTwMV40X7f",
        "outputId": "d8e7e832-7a43-44a6-8c2b-29dda3a9d2e9"
      },
      "execution_count": null,
      "outputs": [
        {
          "output_type": "execute_result",
          "data": {
            "text/plain": [
              "[<matplotlib.lines.Line2D at 0x7fc6a3cd84c0>]"
            ]
          },
          "metadata": {},
          "execution_count": 82
        },
        {
          "output_type": "display_data",
          "data": {
            "text/plain": [
              "<Figure size 432x288 with 1 Axes>"
            ],
            "image/png": "[encoded data removed]"
          },
          "metadata": {
            "needs_background": "light"
          }
        }
      ]
    },
    {
      "cell_type": "code",
      "source": [
        "plt.plot(x, \"ro\")"
      ],
      "metadata": {
        "colab": {
          "base_uri": "https://localhost:8080/",
          "height": 283
        },
        "id": "0zc1QsYN0uPH",
        "outputId": "7557051a-0eab-41c6-8146-deea6f9d734e"
      },
      "execution_count": null,
      "outputs": [
        {
          "output_type": "execute_result",
          "data": {
            "text/plain": [
              "[<matplotlib.lines.Line2D at 0x7fc6a37fbc70>]"
            ]
          },
          "metadata": {},
          "execution_count": 83
        },
        {
          "output_type": "display_data",
          "data": {
            "text/plain": [
              "<Figure size 432x288 with 1 Axes>"
            ],
            "image/png": "[encoded data removed]"
          },
          "metadata": {
            "needs_background": "light"
          }
        }
      ]
    },
    {
      "cell_type": "code",
      "source": [
        "plt.plot(x, \"^r-\")"
      ],
      "metadata": {
        "colab": {
          "base_uri": "https://localhost:8080/",
          "height": 283
        },
        "id": "5eRPmgi80x3H",
        "outputId": "8e515587-ee0a-4747-f275-d597f1f89d26"
      },
      "execution_count": null,
      "outputs": [
        {
          "output_type": "execute_result",
          "data": {
            "text/plain": [
              "[<matplotlib.lines.Line2D at 0x7fc6a37e0fa0>]"
            ]
          },
          "metadata": {},
          "execution_count": 85
        },
        {
          "output_type": "display_data",
          "data": {
            "text/plain": [
              "<Figure size 432x288 with 1 Axes>"
            ],
            "image/png": "[encoded data removed]"
          },
          "metadata": {
            "needs_background": "light"
          }
        }
      ]
    },
    {
      "cell_type": "code",
      "source": [
        "plt.plot(x, \"b>--\")"
      ],
      "metadata": {
        "colab": {
          "base_uri": "https://localhost:8080/",
          "height": 283
        },
        "id": "dGQrlB_tFDld",
        "outputId": "326dcd6e-882e-4ca1-efbe-d55f71cac534"
      },
      "execution_count": null,
      "outputs": [
        {
          "output_type": "execute_result",
          "data": {
            "text/plain": [
              "[<matplotlib.lines.Line2D at 0x7fc6a370bb20>]"
            ]
          },
          "metadata": {},
          "execution_count": 87
        },
        {
          "output_type": "display_data",
          "data": {
            "text/plain": [
              "<Figure size 432x288 with 1 Axes>"
            ],
            "image/png": "[encoded data removed]"
          },
          "metadata": {
            "needs_background": "light"
          }
        }
      ]
    },
    {
      "cell_type": "code",
      "source": [
        "x"
      ],
      "metadata": {
        "colab": {
          "base_uri": "https://localhost:8080/"
        },
        "id": "G8fJOUdEFYOR",
        "outputId": "8576cf0d-7b55-490c-873f-32b498b6f85b"
      },
      "execution_count": null,
      "outputs": [
        {
          "output_type": "execute_result",
          "data": {
            "text/plain": [
              "[1, 2, 3]"
            ]
          },
          "metadata": {},
          "execution_count": 88
        }
      ]
    },
    {
      "cell_type": "code",
      "source": [
        "x**2"
      ],
      "metadata": {
        "colab": {
          "base_uri": "https://localhost:8080/",
          "height": 168
        },
        "id": "tpzdQR_6FhqS",
        "outputId": "bb9f5252-96e9-425d-a46f-7cb0f7c3e802"
      },
      "execution_count": null,
      "outputs": [
        {
          "output_type": "error",
          "ename": "TypeError",
          "evalue": "ignored",
          "traceback": [
            "\u001b[0;31m---------------------------------------------------------------------------\u001b[0m",
            "\u001b[0;31mTypeError\u001b[0m                                 Traceback (most recent call last)",
            "\u001b[0;32m<ipython-input-89-4157f318709d>\u001b[0m in \u001b[0;36m<module>\u001b[0;34m\u001b[0m\n\u001b[0;32m----> 1\u001b[0;31m \u001b[0mx\u001b[0m\u001b[0;34m**\u001b[0m\u001b[0;36m2\u001b[0m\u001b[0;34m\u001b[0m\u001b[0;34m\u001b[0m\u001b[0m\n\u001b[0m",
            "\u001b[0;31mTypeError\u001b[0m: unsupported operand type(s) for ** or pow(): 'list' and 'int'"
          ]
        }
      ]
    },
    {
      "cell_type": "code",
      "source": [
        "x1"
      ],
      "metadata": {
        "colab": {
          "base_uri": "https://localhost:8080/"
        },
        "id": "RBR2jNmIFjjt",
        "outputId": "2e73d2b2-5c0a-4585-9af3-239be830d855"
      },
      "execution_count": null,
      "outputs": [
        {
          "output_type": "execute_result",
          "data": {
            "text/plain": [
              "array([1, 2, 3])"
            ]
          },
          "metadata": {},
          "execution_count": 90
        }
      ]
    },
    {
      "cell_type": "code",
      "source": [
        "x1**2"
      ],
      "metadata": {
        "colab": {
          "base_uri": "https://localhost:8080/"
        },
        "id": "59h3mEVhFlJD",
        "outputId": "cc3e71b0-e886-4c2b-a913-fd322e96ab0b"
      },
      "execution_count": null,
      "outputs": [
        {
          "output_type": "execute_result",
          "data": {
            "text/plain": [
              "array([1, 4, 9])"
            ]
          },
          "metadata": {},
          "execution_count": 91
        }
      ]
    },
    {
      "cell_type": "code",
      "source": [
        "x1**3"
      ],
      "metadata": {
        "colab": {
          "base_uri": "https://localhost:8080/"
        },
        "id": "gssE6X3oFmR7",
        "outputId": "0ebd27e7-4225-4869-c52b-80fcebba107b"
      },
      "execution_count": null,
      "outputs": [
        {
          "output_type": "execute_result",
          "data": {
            "text/plain": [
              "array([ 1,  8, 27])"
            ]
          },
          "metadata": {},
          "execution_count": 92
        }
      ]
    },
    {
      "cell_type": "code",
      "source": [
        "plt.plot(x1, \"ro-\")\n",
        "plt.plot(x1**2, \"bx--\")\n",
        "plt.plot(x1**3, \"k^-.\")"
      ],
      "metadata": {
        "colab": {
          "base_uri": "https://localhost:8080/",
          "height": 283
        },
        "id": "zyGAmetVFnZw",
        "outputId": "0d0a0ae0-94ea-407a-bb89-b046bd6db21a"
      },
      "execution_count": null,
      "outputs": [
        {
          "output_type": "execute_result",
          "data": {
            "text/plain": [
              "[<matplotlib.lines.Line2D at 0x7fc6a363e8b0>]"
            ]
          },
          "metadata": {},
          "execution_count": 93
        },
        {
          "output_type": "display_data",
          "data": {
            "text/plain": [
              "<Figure size 432x288 with 1 Axes>"
            ],
            "image/png": "[encoded data removed]"
          },
          "metadata": {
            "needs_background": "light"
          }
        }
      ]
    },
    {
      "cell_type": "code",
      "source": [
        "plt.plot(x1, \"ro-\", label=\"x1\")\n",
        "plt.plot(x1**2, \"bx--\", label=\"x1**2\")\n",
        "plt.plot(x1**3, \"k^-.\", label=\"x1**3\")\n",
        "plt.legend()"
      ],
      "metadata": {
        "colab": {
          "base_uri": "https://localhost:8080/",
          "height": 283
        },
        "id": "nkMLBivNF5m0",
        "outputId": "1bdfcd5b-d0da-49be-90da-30c42f3a1841"
      },
      "execution_count": null,
      "outputs": [
        {
          "output_type": "execute_result",
          "data": {
            "text/plain": [
              "<matplotlib.legend.Legend at 0x7fc6a361cdf0>"
            ]
          },
          "metadata": {},
          "execution_count": 94
        },
        {
          "output_type": "display_data",
          "data": {
            "text/plain": [
              "<Figure size 432x288 with 1 Axes>"
            ],
            "image/png": "[encoded data removed]"
          },
          "metadata": {
            "needs_background": "light"
          }
        }
      ]
    },
    {
      "cell_type": "code",
      "source": [
        "plt.plot(x1, \"ro-\", label=\"$x_1$\")\n",
        "plt.plot(x1**2, \"bx--\", label=\"$x_1^2$\")\n",
        "plt.plot(x1**3, \"k^-.\", label=\"$x_1^3$\")\n",
        "plt.legend()"
      ],
      "metadata": {
        "colab": {
          "base_uri": "https://localhost:8080/",
          "height": 283
        },
        "id": "-zdxgRn9GGcY",
        "outputId": "8e14309a-8669-429a-f409-9b47d4ee22b6"
      },
      "execution_count": null,
      "outputs": [
        {
          "output_type": "execute_result",
          "data": {
            "text/plain": [
              "<matplotlib.legend.Legend at 0x7fc6a35eb5e0>"
            ]
          },
          "metadata": {},
          "execution_count": 95
        },
        {
          "output_type": "display_data",
          "data": {
            "text/plain": [
              "<Figure size 432x288 with 1 Axes>"
            ],
            "image/png": "[encoded data removed]"
          },
          "metadata": {
            "needs_background": "light"
          }
        }
      ]
    },
    {
      "cell_type": "code",
      "source": [
        "plt.plot(x1, \"ro-\", label=\"$x_1$\")\n",
        "plt.plot(x1**2, \"bx--\", label=\"$x_1^2$\")\n",
        "plt.plot(x1**3, \"k^-.\", label=\"$x_1^3$\")\n",
        "plt.legend()\n",
        "plt.title(\"The power of x1\")"
      ],
      "metadata": {
        "colab": {
          "base_uri": "https://localhost:8080/",
          "height": 299
        },
        "id": "aPs-EbnBGTlS",
        "outputId": "b68233d8-1df6-4abc-8ae3-151e3eda8f79"
      },
      "execution_count": null,
      "outputs": [
        {
          "output_type": "execute_result",
          "data": {
            "text/plain": [
              "Text(0.5, 1.0, 'The power of x1')"
            ]
          },
          "metadata": {},
          "execution_count": 96
        },
        {
          "output_type": "display_data",
          "data": {
            "text/plain": [
              "<Figure size 432x288 with 1 Axes>"
            ],
            "image/png": "[encoded data removed]"
          },
          "metadata": {
            "needs_background": "light"
          }
        }
      ]
    },
    {
      "cell_type": "code",
      "source": [
        "plt.plot(x1, \"ro-\", label=\"$x_1$\")\n",
        "plt.plot(x1**2, \"bx--\", label=\"$x_1^2$\")\n",
        "plt.plot(x1**3, \"k^-.\", label=\"$x_1^3$\")\n",
        "plt.legend()\n",
        "plt.title(\"The power of x1\")\n",
        "plt.xlabel(\"Axis x\")\n",
        "plt.ylabel(\"Axis y\")"
      ],
      "metadata": {
        "colab": {
          "base_uri": "https://localhost:8080/",
          "height": 313
        },
        "id": "F-4ZfY4NGkFu",
        "outputId": "7c81c53a-3637-46d8-f1dd-a92bc0390fce"
      },
      "execution_count": null,
      "outputs": [
        {
          "output_type": "execute_result",
          "data": {
            "text/plain": [
              "Text(0, 0.5, 'Axis y')"
            ]
          },
          "metadata": {},
          "execution_count": 97
        },
        {
          "output_type": "display_data",
          "data": {
            "text/plain": [
              "<Figure size 432x288 with 1 Axes>"
            ],
            "image/png": "[encoded data removed]"
          },
          "metadata": {
            "needs_background": "light"
          }
        }
      ]
    },
    {
      "cell_type": "markdown",
      "source": [
        "### 長條圖 (Bar Chart)"
      ],
      "metadata": {
        "id": "KQczfsUtHaRC"
      }
    },
    {
      "cell_type": "code",
      "source": [
        "x"
      ],
      "metadata": {
        "colab": {
          "base_uri": "https://localhost:8080/"
        },
        "id": "9QoI-NX4G8ZG",
        "outputId": "bf430ffb-5f52-4079-c865-2214c260bc4a"
      },
      "execution_count": null,
      "outputs": [
        {
          "output_type": "execute_result",
          "data": {
            "text/plain": [
              "[1, 2, 3]"
            ]
          },
          "metadata": {},
          "execution_count": 98
        }
      ]
    },
    {
      "cell_type": "code",
      "source": [
        "plt.bar?"
      ],
      "metadata": {
        "id": "eBQCFF95HnxQ"
      },
      "execution_count": null,
      "outputs": []
    },
    {
      "cell_type": "code",
      "source": [
        "c = ['a', 'b', 'c']"
      ],
      "metadata": {
        "id": "bemS91pyHrIo"
      },
      "execution_count": null,
      "outputs": []
    },
    {
      "cell_type": "code",
      "source": [
        "plt.bar(c, x)"
      ],
      "metadata": {
        "colab": {
          "base_uri": "https://localhost:8080/",
          "height": 283
        },
        "id": "Itl-4kUuH-f7",
        "outputId": "d3434007-3f45-4cab-c089-f166b6bbe76d"
      },
      "execution_count": null,
      "outputs": [
        {
          "output_type": "execute_result",
          "data": {
            "text/plain": [
              "<BarContainer object of 3 artists>"
            ]
          },
          "metadata": {},
          "execution_count": 101
        },
        {
          "output_type": "display_data",
          "data": {
            "text/plain": [
              "<Figure size 432x288 with 1 Axes>"
            ],
            "image/png": "[encoded data removed]"
          },
          "metadata": {
            "needs_background": "light"
          }
        }
      ]
    },
    {
      "cell_type": "markdown",
      "source": [
        "### 圓餅圖 (Pie Chart)"
      ],
      "metadata": {
        "id": "-JvrH4RQIEqX"
      }
    },
    {
      "cell_type": "code",
      "source": [
        "plt.pie?"
      ],
      "metadata": {
        "id": "DnGn94ACIADY"
      },
      "execution_count": null,
      "outputs": []
    },
    {
      "cell_type": "code",
      "source": [
        "plt.pie(x, labels=c)"
      ],
      "metadata": {
        "colab": {
          "base_uri": "https://localhost:8080/",
          "height": 355
        },
        "id": "RMQCBNMhIJva",
        "outputId": "52ce072e-e973-4000-cb5e-f4491e775461"
      },
      "execution_count": null,
      "outputs": [
        {
          "output_type": "execute_result",
          "data": {
            "text/plain": [
              "([<matplotlib.patches.Wedge at 0x7fc6a32c50a0>,\n",
              "  <matplotlib.patches.Wedge at 0x7fc6a32c5550>,\n",
              "  <matplotlib.patches.Wedge at 0x7fc6a32c59d0>],\n",
              " [Text(0.9526279355804298, 0.5500000148652441, 'a'),\n",
              "  Text(-0.5500000594609755, 0.9526279098330699, 'b'),\n",
              "  Text(1.0298943251329445e-07, -1.0999999999999954, 'c')])"
            ]
          },
          "metadata": {},
          "execution_count": 103
        },
        {
          "output_type": "display_data",
          "data": {
            "text/plain": [
              "<Figure size 432x288 with 1 Axes>"
            ],
            "image/png": "[encoded data removed]"
          },
          "metadata": {}
        }
      ]
    },
    {
      "cell_type": "code",
      "source": [
        "plt.pie(x, labels=c);"
      ],
      "metadata": {
        "colab": {
          "base_uri": "https://localhost:8080/",
          "height": 248
        },
        "id": "_QU1L067ISAL",
        "outputId": "792fa72d-df62-4c7e-9314-2cfa0eacf425"
      },
      "execution_count": null,
      "outputs": [
        {
          "output_type": "display_data",
          "data": {
            "text/plain": [
              "<Figure size 432x288 with 1 Axes>"
            ],
            "image/png": "[encoded data removed]"
          },
          "metadata": {}
        }
      ]
    },
    {
      "cell_type": "markdown",
      "source": [
        "## 補充說明：\n",
        "\n",
        "Python 常用來做影像處理的套件，大概有三個：\n",
        "\n",
        "* pillow (PIL)\n",
        "* skimage\n",
        "* opencv\n"
      ],
      "metadata": {
        "id": "NMtt74EaKLO6"
      }
    },
    {
      "cell_type": "code",
      "source": [
        "from PIL import Image"
      ],
      "metadata": {
        "id": "6LHADFTKIW78"
      },
      "execution_count": null,
      "outputs": []
    },
    {
      "cell_type": "code",
      "source": [
        "lin = Image.open('lin.jpg')"
      ],
      "metadata": {
        "id": "APmpmk89K3HX"
      },
      "execution_count": null,
      "outputs": []
    },
    {
      "cell_type": "code",
      "source": [
        "lin_array = np.array(lin)"
      ],
      "metadata": {
        "id": "Ds6zat-OLHsN"
      },
      "execution_count": null,
      "outputs": []
    },
    {
      "cell_type": "code",
      "source": [
        "plt.imshow(lin_array)"
      ],
      "metadata": {
        "colab": {
          "base_uri": "https://localhost:8080/",
          "height": 287
        },
        "id": "nrl55OHxLI5O",
        "outputId": "7ac46e1b-c4ac-4fb1-d4c7-08ccc3cf305f"
      },
      "execution_count": null,
      "outputs": [
        {
          "output_type": "execute_result",
          "data": {
            "text/plain": [
              "<matplotlib.image.AxesImage at 0x7fc6a35f4340>"
            ]
          },
          "metadata": {},
          "execution_count": 109
        },
        {
          "output_type": "display_data",
          "data": {
            "text/plain": [
              "<Figure size 432x288 with 1 Axes>"
            ],
            "image/png": "[encoded data removed]"
          },
          "metadata": {
            "needs_background": "light"
          }
        }
      ]
    },
    {
      "cell_type": "markdown",
      "source": [
        "## Pandas\n",
        "\n",
        "* Series\n",
        "* DataFrame"
      ],
      "metadata": {
        "id": "TbXTatM5Lc48"
      }
    },
    {
      "cell_type": "code",
      "source": [],
      "metadata": {
        "id": "h_I-L1C4LUSd"
      },
      "execution_count": null,
      "outputs": []
    }
  ]
}