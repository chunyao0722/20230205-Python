{
  "nbformat": 4,
  "nbformat_minor": 0,
  "metadata": {
    "colab": {
      "provenance": [],
      "authorship_tag": "ABX9TyOXY+C7L6MI790GS2VykDQa",
      "include_colab_link": true
    },
    "kernelspec": {
      "name": "python3",
      "display_name": "Python 3"
    },
    "language_info": {
      "name": "python"
    }
  },
  "cells": [
    {
      "cell_type": "markdown",
      "metadata": {
        "id": "view-in-github",
        "colab_type": "text"
      },
      "source": [
        "<a href=\"https://colab.research.google.com/github/chunyao0722/20230205-Python/blob/main/20230205.ipynb\" target=\"_parent\"><img src=\"https://colab.research.google.com/assets/colab-badge.svg\" alt=\"Open In Colab\"/></a>"
      ]
    },
    {
      "cell_type": "markdown",
      "source": [
        "#20230205\n"
      ],
      "metadata": {
        "id": "NH593cCauC_G"
      }
    },
    {
      "cell_type": "markdown",
      "source": [
        "Markdown 語法說明\n",
        "\n",
        "#最大標題\n",
        "##次大標題\n",
        "###次次大標題"
      ],
      "metadata": {
        "id": "4s_UZHdphKhv"
      }
    },
    {
      "cell_type": "markdown",
      "source": [
        "基本資料型態:\n",
        "\n",
        "  * int (整數)\n",
        "  * float(浮點數)\n",
        "  * bool(布林變數)\n",
        "  * str(字串)\n",
        "#-號,數字不能為變數開頭\n",
        "#Python有大小寫之分\n",
        "\n",
        "\n",
        "\n",
        "\n",
        "\n"
      ],
      "metadata": {
        "id": "riXPztAfuJ_z"
      }
    },
    {
      "cell_type": "code",
      "source": [
        "a=1\n",
        "type(a)\n",
        "\n",
        "b=2.0\n",
        "type(b)"
      ],
      "metadata": {
        "colab": {
          "base_uri": "https://localhost:8080/"
        },
        "id": "-eBQ-q1NvLkD",
        "outputId": "cd2fecf3-284b-4968-8e24-84ca19345751"
      },
      "execution_count": null,
      "outputs": [
        {
          "output_type": "execute_result",
          "data": {
            "text/plain": [
              "float"
            ]
          },
          "metadata": {},
          "execution_count": 7
        }
      ]
    },
    {
      "cell_type": "markdown",
      "source": [
        "#Line Notify應用\n",
        "使用Line Notify傳一個訊息給自己\n",
        "\n",
        "*[取得token](https://notify-bot.line.me/zh_TW/)\n",
        "\n",
        "*[取得貼圖](:http://github.com/victorgau/khpy_linenotify_intro/raw/main/misc/sticker_list.pdf)"
      ],
      "metadata": {
        "id": "MfzbjgkLD-QH"
      }
    },
    {
      "cell_type": "code",
      "source": [
        "#從github 將 linenotify.py下載到Colab裡面\n",
        "#!wget https://raw.githubusercontent.com/victorgau/khpy_linenotify_intro/main/py/linenotify.py\n",
        "\n",
        "from linenotify import Notify\n",
        "\n",
        "#token權杖碼\n",
        "token=\"VaMstdNEdugulSD12GJ3r3Wr54VfNFiLO5ZoQObLWPv\"\n",
        "\n",
        "#傳送文字訊息\n",
        "Notify(token,\"新年快樂\")\n",
        "\n",
        "#傳送貼圖\n",
        "Notify(token,\"水歐\",1,5)\n",
        "\n",
        "#傳送圖片\n",
        "Notify(token,\"太帥ㄌ\",1,6,\"Maserati.jpg\")\n",
        "\n"
      ],
      "metadata": {
        "id": "ltUC6pttD6-P"
      },
      "execution_count": null,
      "outputs": []
    }
  ]
}